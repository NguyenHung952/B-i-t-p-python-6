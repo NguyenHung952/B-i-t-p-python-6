{
 "cells": [
  {
   "cell_type": "code",
   "execution_count": 4,
   "id": "8b4ad369-d63a-41e6-95a1-1e1b595da666",
   "metadata": {},
   "outputs": [],
   "source": [
    "#Bài tập Chương 1"
   ]
  },
  {
   "cell_type": "code",
   "execution_count": 25,
   "id": "af836bf0-3276-453e-9e62-f34eed199e22",
   "metadata": {},
   "outputs": [
    {
     "name": "stdout",
     "output_type": "stream",
     "text": [
      "Good morning\n"
     ]
    }
   ],
   "source": [
    "#1.\tSử dụng lệnh print, in dòng chữ “Good morning” lên màn hình.\n",
    "print(\"Good morning\")"
   ]
  },
  {
   "cell_type": "code",
   "execution_count": 6,
   "id": "7a6817d4-dad5-4d79-9bc7-0c7a0f26edda",
   "metadata": {},
   "outputs": [
    {
     "name": "stdout",
     "output_type": "stream",
     "text": [
      "Dang Quoc Hung 20033101\n"
     ]
    }
   ],
   "source": [
    "#2.\tTạo các biến với giá trị là tên SV và MSSV. Sử dụng lênh print, in tên và MSSV lên màn hình. \n",
    "SV = \"Dang Quoc Hung\"\n",
    "MSSV = 20033101\n",
    "print(\"%s %d\" % (SV, MSSV))"
   ]
  },
  {
   "cell_type": "code",
   "execution_count": 43,
   "id": "fdcf6a8a-2f3f-4873-9832-49548fbc025f",
   "metadata": {},
   "outputs": [
    {
     "name": "stdin",
     "output_type": "stream",
     "text": [
      "nhap a = 2\n",
      "nhap b = 3\n"
     ]
    },
    {
     "name": "stdout",
     "output_type": "stream",
     "text": [
      "5.0\n",
      "-1.0\n",
      "6.0\n",
      "0.6666666666666666\n"
     ]
    }
   ],
   "source": [
    "#3.\tTạo ra các biến dạng số nguyên, thực hiện các phép toán ‘+’, ‘-’, ‘*’, ‘/’ và in các kết quả đó ra màn hình.\n",
    "a = float(input(\"nhap a =\"))\n",
    "b = float(input(\"nhap b =\"))\n",
    "\n",
    "c = a + b\n",
    "print(c)\n",
    "\n",
    "d = a - b\n",
    "print(d)\n",
    "    \n",
    "e = a * b\n",
    "print(e)\n",
    "\n",
    "f = a / b\n",
    "print(f)"
   ]
  },
  {
   "cell_type": "code",
   "execution_count": 53,
   "id": "02c01ce4-c7ed-4771-94fe-63bb046758e2",
   "metadata": {},
   "outputs": [
    {
     "name": "stdin",
     "output_type": "stream",
     "text": [
      "nhap ban kinh r = 3\n"
     ]
    },
    {
     "name": "stdout",
     "output_type": "stream",
     "text": [
      "9.42\n",
      "28.26\n"
     ]
    }
   ],
   "source": [
    "#4. Viết chương trình tính chu vi và diện tích hình tròn. Với bán kính hình tròn cho trước trong biến. Tính và in kết quả ra màn hình.\n",
    "pi = float(3.14)\n",
    "r = float(input(\"nhap ban kinh r =\"))\n",
    "chuvi = pi * r\n",
    "print(chuvi)\n",
    "dientich = pi *r**2\n",
    "print(dientich)"
   ]
  },
  {
   "cell_type": "code",
   "execution_count": 59,
   "id": "2279be13-68aa-45e8-9785-386ef040f580",
   "metadata": {},
   "outputs": [
    {
     "name": "stdout",
     "output_type": "stream",
     "text": [
      "Dang Quoc Hung\n",
      "gnuH couQ gnaD\n"
     ]
    }
   ],
   "source": [
    "#5. Viết chương trình Python in ra giá trị họ tên ngược lại giống như sau:\n",
    "#-\tData = (‘họ’,’tên đệm’,’tên’)\n",
    "#-\tIn ra màn hình kết quả: ‘tên’ ‘tên đệm’ ‘họ’\n",
    "Data = \"Dang Quoc Hung\"\n",
    "print(Data)\n",
    "print(Data[::-1])"
   ]
  },
  {
   "cell_type": "code",
   "execution_count": 41,
   "id": "78958988-4148-4dce-bd28-53d5f05ca298",
   "metadata": {},
   "outputs": [
    {
     "name": "stdout",
     "output_type": "stream",
     "text": [
      "nhap x1 = 3\n",
      "3.0\n",
      "nhap y1 = 4\n",
      "4.0\n",
      "nhap x2 = 4\n",
      "4.0\n",
      "nhap y2 = 5\n",
      "5.0\n",
      "Khoang cach tu diem A den diem B: 3.162278\n"
     ]
    }
   ],
   "source": [
    "#6. Viết chương trình Python tính khoảng cách từ điểm (x1,y1) đến điểm (x2,y2)\n",
    "#Khoang cach cua diem A\n",
    "import math\n",
    "x1 = float(input(\"nhap x1 = \"))\n",
    "print(x1)\n",
    "y1 = float(input(\"nhap y1 = \"))\n",
    "print(y1)\n",
    "x2 = float(input(\"nhap x2 = \"))\n",
    "print(x2)\n",
    "y2 = float(input(\"nhap y2 = \"))\n",
    "print(y2)\n",
    "x = x2 - x1\n",
    "y = y2 - y1\n",
    "KhoangCach = math.sqrt(x1**2+y**2)\n",
    "print(\"Khoang cach tu diem A den diem B: %f\" % (KhoangCach))"
   ]
  },
  {
   "cell_type": "code",
   "execution_count": 6,
   "id": "42ad36d1",
   "metadata": {},
   "outputs": [
    {
     "name": "stdout",
     "output_type": "stream",
     "text": [
      "babyboy123456\n"
     ]
    }
   ],
   "source": [
    "# 7. Viết chương trình Python tính tổng các phần tử số trong mảng cho trước gồm cả ký tự và số.\n",
    "matkhau = ['b','a','b','y','b','o','y', 1,2,3,4,5,6]\n",
    "total = \"\"\n",
    "for i in matkhau:\n",
    "    total += str(i)\n",
    "print(total)\n"
   ]
  },
  {
   "cell_type": "code",
   "execution_count": 103,
   "id": "55fe3819-3128-4f50-9be6-5f84ff2faf52",
   "metadata": {},
   "outputs": [
    {
     "name": "stdout",
     "output_type": "stream",
     "text": [
      "nhap n = 4\n",
      "24\n"
     ]
    }
   ],
   "source": [
    "#8.  Viết công thức tính n! và in kết quả ra màn hình. Giá trị n cho trước trong một biến.\n",
    "\n",
    "n = float(input(\"nhap n = \"))\n",
    "count = 0\n",
    "S = 1\n",
    "while count < n:\n",
    "    count +=1\n",
    "    S = S*count\n",
    "print(S)\n"
   ]
  },
  {
   "cell_type": "code",
   "execution_count": 55,
   "id": "2bb010dd",
   "metadata": {},
   "outputs": [
    {
     "name": "stdout",
     "output_type": "stream",
     "text": [
      "nhap a = 1\n",
      "nhap b = -5\n",
      "nhap b = 6\n",
      "1.0\n",
      "3.0\n",
      "2.0\n"
     ]
    }
   ],
   "source": [
    "#9. Viết chương trình tìm nghiệm của phương trình bậc 2. \n",
    "#Các hệ số của phương trình bậc 2 được khai báo trước trong biến. Tính và in kết quả ra màn hình.\n",
    "import math\n",
    "\n",
    "a = float(input(\"nhap a = \"))\n",
    "b = float(input(\"nhap b = \"))\n",
    "c = float(input(\"nhap b = \"))\n",
    "delta = b**2 - 4*a*c\n",
    "print(delta)\n",
    "if (delta > 0):\n",
    "    x1 = (-b + math.sqrt(delta))/2*a\n",
    "    x2 = (-b - math.sqrt(delta))/2*a\n",
    "    print(x1)\n",
    "    print(x2)\n",
    "    \n",
    "elif(delta == 0):\n",
    "    x3 = -b/2*a\n",
    "    print(x3)\n",
    "else:\n",
    "    print(\"Phuong trinh vo nghiem\")"
   ]
  },
  {
   "cell_type": "code",
   "execution_count": 88,
   "id": "e738b7ab",
   "metadata": {},
   "outputs": [
    {
     "name": "stdout",
     "output_type": "stream",
     "text": [
      "nhap ngay thu 1 = 3\n",
      "nhap thang thu 1 = 5\n",
      "nhap nam thu 1 = 2002\n",
      "nhap ngay thu 2 = 4\n",
      "nhap thang thu 2 = 5\n",
      "nhap nam thu 2 = 2002\n",
      "So ngay dua tren ngay thang nam =     1 ngay\n"
     ]
    }
   ],
   "source": [
    "#10. Viết chương trình Python tính toán số ngày dựa trên ngày tháng năm\n",
    "#Ngày tháng cho : (01, 12, 2020), (12, 12, 2020)\n",
    "#Kết quả mong muốn : 12 ngày\n",
    "ngay1=float(input(\"nhap ngay thu 1 = \"))\n",
    "thang1=float(input(\"nhap thang thu 1 = \"))\n",
    "nam1=float(input(\"nhap nam thu 1 = \"))\n",
    "ngay2=float(input(\"nhap ngay thu 2 = \"))\n",
    "thang2=float(input(\"nhap thang thu 2 = \"))\n",
    "nam2=float(input(\"nhap nam thu 2 = \"))\n",
    "\n",
    "if (ngay1 == ngay2):\n",
    "    print(\"Nhap lai ngay cua thang can tinh\")\n",
    "\n",
    "if (ngay1 > ngay2):\n",
    "    ngay = ngay1 - ngay2\n",
    "\n",
    "if (ngay1 < ngay2):\n",
    "    ngay = ngay2 - ngay1    \n",
    "    \n",
    "\n",
    "print(\"So ngay dua tren ngay thang nam = %5.f ngay\" % (ngay))"
   ]
  },
  {
   "cell_type": "code",
   "execution_count": 77,
   "id": "296bcb6a",
   "metadata": {
    "scrolled": true
   },
   "outputs": [
    {
     "name": "stdout",
     "output_type": "stream",
     "text": [
      "nhap n = 3\n",
      "n la so le\n"
     ]
    }
   ],
   "source": [
    "#11. Viết chương trình Python in ra màn hình số cho trước là số chẵn hay số lẻ.\n",
    "n=int(input(\"nhap n = \"))\n",
    "if (n%2==0):\n",
    "    print(\"n la so chan \")\n",
    "else:\n",
    "    print(\"n la so le\")"
   ]
  },
  {
   "cell_type": "code",
   "execution_count": 100,
   "id": "cc5a59c4",
   "metadata": {},
   "outputs": [
    {
     "name": "stdout",
     "output_type": "stream",
     "text": [
      "2 la so chan\n",
      "3 khong la so chan\n",
      "4 la so chan\n",
      "5 khong la so chan\n",
      "6 la so chan\n",
      "7 khong la so chan\n"
     ]
    }
   ],
   "source": [
    "#12. Viết chương trình Python chỉ in ra màn hình số chẵn trong một chuỗi cho trước.\n",
    "array = [2,3,4,5,6,7]\n",
    "for x in array: \n",
    "    if (x%2==0):\n",
    "        print(\"%s la so chan\"%(x))\n",
    "    else:\n",
    "        print(\"%s khong la so chan\"%(x))"
   ]
  },
  {
   "cell_type": "code",
   "execution_count": 105,
   "id": "6ccb70af",
   "metadata": {},
   "outputs": [
    {
     "name": "stdout",
     "output_type": "stream",
     "text": [
      "[3, 4, 5, 6, 7, 9]\n"
     ]
    }
   ],
   "source": [
    "#13. Viết chương trình Python sắp xếp thứ tự các phần tử trong mảng theo thứ tự tăng dần\n",
    "mang = [9,3,4,5,6,7]\n",
    "lenth = len(mang)\n",
    "for i in range(0, lenth - 1):\n",
    "    for j in range(i + 1, lenth):\n",
    "        if (mang[i] > mang[j]):\n",
    "            tmp = mang[i]\n",
    "            mang[i] = mang[j]\n",
    "            mang[j] = tmp\n",
    "print(mang)\n"
   ]
  },
  {
   "cell_type": "code",
   "execution_count": 106,
   "id": "8244617f",
   "metadata": {},
   "outputs": [
    {
     "name": "stdout",
     "output_type": "stream",
     "text": [
      "[9, 7, 6, 5, 4, 3]\n"
     ]
    }
   ],
   "source": [
    "#14. Viết chương trình Python sắp xếp thứ tự các phần tử trong mảng theo thứ tự giảm dần\n",
    "mang = [9,3,4,5,6,7]\n",
    "lenth = len(mang)\n",
    "for i in range(0, lenth - 1):\n",
    "    for j in range(i + 1, lenth):\n",
    "        if (mang[i] < mang[j]):\n",
    "            tmp = mang[i]\n",
    "            mang[i] = mang[j]\n",
    "            mang[j] = tmp\n",
    "print(mang)"
   ]
  },
  {
   "cell_type": "code",
   "execution_count": 16,
   "id": "4b8b8417",
   "metadata": {},
   "outputs": [
    {
     "name": "stdout",
     "output_type": "stream",
     "text": [
      "nhap so phan tu muon co trong mang = 3\n",
      "1\n",
      "2\n",
      "3\n",
      "So lon nhat: 3\n"
     ]
    }
   ],
   "source": [
    "#15. Viết chương trình Python tìm số lớn nhất trong một dãy số cho trước.\n",
    "n = int(input(\"nhap so phan tu muon co trong mang = \"))\n",
    "mang = []\n",
    "for i in range(n):\n",
    "    mang.append(int(input()))\n",
    "lonnhat=max(mang)\n",
    "print(\"So lon nhat:\",lonnhat)"
   ]
  },
  {
   "cell_type": "code",
   "execution_count": 20,
   "id": "24339096",
   "metadata": {
    "scrolled": true
   },
   "outputs": [
    {
     "name": "stdout",
     "output_type": "stream",
     "text": [
      "nhap so phan tu muon co trong mang = 3\n",
      "2\n",
      "3\n",
      "4\n",
      "So nho nhat: 2\n"
     ]
    }
   ],
   "source": [
    "#16. Viết chương trình Python tìm số nhỏ nhất trong một dãy số cho trước\n",
    "n = int(input(\"nhap so phan tu muon co trong mang = \"))\n",
    "mang = []\n",
    "for i in range(n):\n",
    "    mang.append(int(input()))\n",
    "nhonhat=min(array)\n",
    "print(\"So nho nhat:\",nhonhat)"
   ]
  },
  {
   "cell_type": "code",
   "execution_count": 30,
   "id": "d04774b1",
   "metadata": {
    "scrolled": true
   },
   "outputs": [
    {
     "name": "stdout",
     "output_type": "stream",
     "text": [
      "nhap so phan tu muon co trong mang = 4\n",
      "1\n",
      "2\n",
      "3\n",
      "4\n",
      "so lon thu hai trong mang la 3\n"
     ]
    }
   ],
   "source": [
    "#17. Viết chương trình Python tìm số lớn thứ 2 trong một dãy số cho trước\n",
    "n = int(input(\"nhap so phan tu muon co trong mang = \"))\n",
    "mang = []\n",
    "for i in range(n):\n",
    "    mang.append(int(input()))\n",
    "mang.sort()\n",
    "print(\"so lon thu hai trong mang la %d\"%(mang[-2]))\n"
   ]
  },
  {
   "cell_type": "code",
   "execution_count": 32,
   "id": "39240a23",
   "metadata": {},
   "outputs": [
    {
     "name": "stdout",
     "output_type": "stream",
     "text": [
      "nhap so phan tu muon co trong mang = 5\n",
      "1\n",
      "2\n",
      "3\n",
      "5\n",
      "8\n",
      "so nho thu hai trong mang la 2\n"
     ]
    }
   ],
   "source": [
    "#18. Viết chương trình Python tìm số nhỏ thứ 2 trong một dãy số cho trước.\n",
    "n = int(input(\"nhap so phan tu muon co trong mang = \"))\n",
    "mang = []\n",
    "for i in range(n):\n",
    "    mang.append(int(input()))\n",
    "mang.sort()\n",
    "print(\"so nho thu hai trong mang la %d\"%(mang[1]))\n"
   ]
  },
  {
   "cell_type": "code",
   "execution_count": 22,
   "id": "6937eb64",
   "metadata": {},
   "outputs": [
    {
     "name": "stdout",
     "output_type": "stream",
     "text": [
      "1\n"
     ]
    }
   ],
   "source": [
    "#19. Viết chương trình Python in ra các ký tự khác nhau trong một chuỗi ký tự cho trước. \n",
    "#Cho biết các ký tự được lặp lại bao nhiêu lần.\n",
    "string = \"EM TEN LA NGUYEN NGOC HUNG LA SINH VIEN LOP DAI HOC VIEN THONG\"\n",
    "print(string.count(\"D\"))"
   ]
  },
  {
   "cell_type": "code",
   "execution_count": 24,
   "id": "853fb4c4",
   "metadata": {},
   "outputs": [
    {
     "name": "stdout",
     "output_type": "stream",
     "text": [
      "{'E': 5, 'M': 1, ' ': 13, 'T': 2, 'N': 9, 'L': 3, 'A': 3, 'G': 4, 'U': 2, 'Y': 1, 'O': 4, 'C': 2, 'H': 4, 'S': 1, 'I': 4, 'V': 2, 'P': 1, 'D': 1}\n"
     ]
    }
   ],
   "source": [
    "string = 'EM TEN LA NGUYEN NGOC HUNG LA SINH VIEN LOP DAI HOC VIEN THONG'\n",
    "count={}\n",
    "for i in string:\n",
    "    if i in count:\n",
    "        count[i] +=1\n",
    "    else:\n",
    "        count[i] = 1\n",
    " \n",
    "print(count)"
   ]
  },
  {
   "cell_type": "code",
   "execution_count": 15,
   "id": "dcde0833",
   "metadata": {},
   "outputs": [
    {
     "name": "stdout",
     "output_type": "stream",
     "text": [
      "nhap so phan tu muon co trong mang = 2\n",
      "3\n",
      "2\n",
      "Tong cac so co trong mang = 5\n"
     ]
    }
   ],
   "source": [
    "#20. Viết chương trình Python tính tổng các số có trong mảng với điều kiện số đó nhỏ hơn một số cho trước. \n",
    "#Mảng cho trước : (2,3,4,5,6,7)\n",
    "#Điều kiện: 5\n",
    "#Kết quả mong muốn: 2+3+4 = 9\n",
    "n = int(input(\"nhap so phan tu muon co trong mang = \"))\n",
    "mang = []\n",
    "for i in range(n):\n",
    "    mang.append(int(input()))\n",
    "\n",
    "tong = 0\n",
    "for i in mang:\n",
    "    tong += i\n",
    "\n",
    "print(\"Tong cac so co trong mang = %d\"%(tong))"
   ]
  },
  {
   "cell_type": "markdown",
   "id": "8dd9ac6a",
   "metadata": {},
   "source": [
    "## "
   ]
  }
 ],
 "metadata": {
  "kernelspec": {
   "display_name": "Python 3 (ipykernel)",
   "language": "python",
   "name": "python3"
  },
  "language_info": {
   "codemirror_mode": {
    "name": "ipython",
    "version": 3
   },
   "file_extension": ".py",
   "mimetype": "text/x-python",
   "name": "python",
   "nbconvert_exporter": "python",
   "pygments_lexer": "ipython3",
   "version": "3.9.12"
  }
 },
 "nbformat": 4,
 "nbformat_minor": 5
}
